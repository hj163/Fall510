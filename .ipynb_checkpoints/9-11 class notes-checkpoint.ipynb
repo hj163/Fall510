{
 "cells": [
  {
   "cell_type": "code",
   "execution_count": 3,
   "metadata": {
    "collapsed": false
   },
   "outputs": [
    {
     "name": "stdout",
     "output_type": "stream",
     "text": [
      "not bad\n",
      "ok\n"
     ]
    }
   ],
   "source": [
    "y=1\n",
    "if y ==1 :\n",
    "    print('not bad')\n",
    "if y < 3 :\n",
    "    print'ok'"
   ]
  },
  {
   "cell_type": "code",
   "execution_count": 8,
   "metadata": {
    "collapsed": false
   },
   "outputs": [
    {
     "name": "stdout",
     "output_type": "stream",
     "text": [
      "this should happen\n"
     ]
    }
   ],
   "source": [
    "a = 1\n",
    "if a > 5 :\n",
    "    print(\"this should not happen\")\n",
    "else :\n",
    "    print(\"this should happen\")"
   ]
  },
  {
   "cell_type": "markdown",
   "metadata": {},
   "source": [
    "# LOOP"
   ]
  },
  {
   "cell_type": "code",
   "execution_count": 17,
   "metadata": {
    "collapsed": false
   },
   "outputs": [
    {
     "name": "stdout",
     "output_type": "stream",
     "text": [
      "0\n",
      "2\n",
      "2\n",
      "6\n",
      "6\n",
      "12\n",
      "12\n",
      "20\n",
      "('the sum is:', 20)\n",
      "this is an odd \n",
      "greater than 5\n",
      "big number\n",
      "this is an odd \n",
      "greater than 5\n"
     ]
    }
   ],
   "source": [
    "list = [2, 4, 6, 8]\n",
    "sum = 0\n",
    "for num in list:\n",
    "    print (sum)\n",
    "    sum = sum + num\n",
    "    print (sum)\n",
    "print(\"the sum is:\" , sum)\n",
    "\n",
    "\n",
    "# what is the result if a=10, a=3, a=4?\n",
    "a = [1, 10, 3, 4]\n",
    "for num in a:\n",
    "    if num > 5:\n",
    "        print(\"big number\")\n",
    "    elif num % 2 !=0:\n",
    "        print(\"this is an odd numer \")\n",
    "        print(\"greater than 5\")"
   ]
  },
  {
   "cell_type": "markdown",
   "metadata": {},
   "source": [
    "# WHILE LOOPS"
   ]
  },
  {
   "cell_type": "code",
   "execution_count": 21,
   "metadata": {
    "collapsed": false
   },
   "outputs": [
    {
     "name": "stdout",
     "output_type": "stream",
     "text": [
      "1\n",
      "2\n",
      "3\n",
      "4\n",
      "5\n",
      "6\n",
      "7\n",
      "8\n",
      "9\n",
      "10\n"
     ]
    }
   ],
   "source": [
    "a = 0\n",
    "while a < 10:\n",
    "    a = a + 1\n",
    "    print (a)"
   ]
  },
  {
   "cell_type": "code",
   "execution_count": 24,
   "metadata": {
    "collapsed": false
   },
   "outputs": [
    {
     "name": "stdout",
     "output_type": "stream",
     "text": [
      "10\n",
      "counting down\n",
      "9\n",
      "counting down\n",
      "8\n",
      "counting down\n",
      "7\n",
      "counting down\n",
      "6\n",
      "counting down\n",
      "5\n",
      "counting down\n",
      "4\n",
      "counting down\n",
      "3\n",
      "counting down\n",
      "2\n",
      "counting down\n",
      "1\n",
      "counting down\n",
      "end\n"
     ]
    }
   ],
   "source": [
    "x = 10\n",
    "while x != 0:\n",
    "    print x\n",
    "    x = x -1 \n",
    "    print(\"counting down\")\n",
    "print(\"end\")"
   ]
  },
  {
   "cell_type": "markdown",
   "metadata": {},
   "source": [
    "# do until loops"
   ]
  },
  {
   "cell_type": "code",
   "execution_count": null,
   "metadata": {
    "collapsed": true
   },
   "outputs": [],
   "source": [
    "# python is 0 based\n",
    "# r is 1 based\n",
    " "
   ]
  },
  {
   "cell_type": "markdown",
   "metadata": {},
   "source": [
    "# system staff"
   ]
  },
  {
   "cell_type": "code",
   "execution_count": 27,
   "metadata": {
    "collapsed": false
   },
   "outputs": [
    {
     "name": "stdout",
     "output_type": "stream",
     "text": [
      "['__displayhook__', '__doc__', '__excepthook__', '__name__', '__package__', '__stderr__', '__stdin__', '__stdout__', '_clear_type_cache', '_current_frames', '_getframe', '_mercurial', 'api_version', 'argv', 'builtin_module_names', 'byteorder', 'call_tracing', 'callstats', 'copyright', 'displayhook', 'dllhandle', 'dont_write_bytecode', 'exc_clear', 'exc_info', 'exc_type', 'excepthook', 'exec_prefix', 'executable', 'exit', 'exitfunc', 'flags', 'float_info', 'float_repr_style', 'getcheckinterval', 'getdefaultencoding', 'getfilesystemencoding', 'getprofile', 'getrecursionlimit', 'getrefcount', 'getsizeof', 'gettrace', 'getwindowsversion', 'hexversion', 'last_traceback', 'last_type', 'last_value', 'long_info', 'maxint', 'maxsize', 'maxunicode', 'meta_path', 'modules', 'path', 'path_hooks', 'path_importer_cache', 'platform', 'prefix', 'ps1', 'ps2', 'ps3', 'py3kwarning', 'setcheckinterval', 'setprofile', 'setrecursionlimit', 'settrace', 'stderr', 'stdin', 'stdout', 'subversion', 'version', 'version_info', 'warnoptions', 'winver']\n",
      "['F_OK', 'O_APPEND', 'O_BINARY', 'O_CREAT', 'O_EXCL', 'O_NOINHERIT', 'O_RANDOM', 'O_RDONLY', 'O_RDWR', 'O_SEQUENTIAL', 'O_SHORT_LIVED', 'O_TEMPORARY', 'O_TEXT', 'O_TRUNC', 'O_WRONLY', 'P_DETACH', 'P_NOWAIT', 'P_NOWAITO', 'P_OVERLAY', 'P_WAIT', 'R_OK', 'SEEK_CUR', 'SEEK_END', 'SEEK_SET', 'TMP_MAX', 'UserDict', 'W_OK', 'X_OK', '_Environ', '__all__', '__builtins__', '__doc__', '__file__', '__name__', '__package__', '_copy_reg', '_execvpe', '_exists', '_exit', '_get_exports_list', '_make_stat_result', '_make_statvfs_result', '_pickle_stat_result', '_pickle_statvfs_result', 'abort', 'access', 'altsep', 'chdir', 'chmod', 'close', 'closerange', 'curdir', 'defpath', 'devnull', 'dup', 'dup2', 'environ', 'errno', 'error', 'execl', 'execle', 'execlp', 'execlpe', 'execv', 'execve', 'execvp', 'execvpe', 'extsep', 'fdopen', 'fstat', 'fsync', 'getcwd', 'getcwdu', 'getenv', 'getpid', 'isatty', 'kill', 'linesep', 'listdir', 'lseek', 'lstat', 'makedirs', 'mkdir', 'name', 'open', 'pardir', 'path', 'pathsep', 'pipe', 'popen', 'popen2', 'popen3', 'popen4', 'putenv', 'read', 'remove', 'removedirs', 'rename', 'renames', 'rmdir', 'sep', 'spawnl', 'spawnle', 'spawnv', 'spawnve', 'startfile', 'stat', 'stat_float_times', 'stat_result', 'statvfs_result', 'strerror', 'sys', 'system', 'tempnam', 'times', 'tmpfile', 'tmpnam', 'umask', 'unlink', 'unsetenv', 'urandom', 'utime', 'waitpid', 'walk', 'write']\n",
      "C:\\Users\\peter_000\\Documents\\GitHub\\Fall510\n",
      "['DEBUG', 'DOTALL', 'I', 'IGNORECASE', 'L', 'LOCALE', 'M', 'MULTILINE', 'S', 'Scanner', 'T', 'TEMPLATE', 'U', 'UNICODE', 'VERBOSE', 'X', '_MAXCACHE', '__all__', '__builtins__', '__doc__', '__file__', '__name__', '__package__', '__version__', '_alphanum', '_cache', '_cache_repl', '_compile', '_compile_repl', '_expand', '_locale', '_pattern_type', '_pickle', '_subx', 'compile', 'copy_reg', 'error', 'escape', 'findall', 'finditer', 'match', 'purge', 'search', 'split', 'sre_compile', 'sre_parse', 'sub', 'subn', 'sys', 'template']\n"
     ]
    }
   ],
   "source": [
    "import sys #Load the sys library\n",
    "print(dir(sys))\n",
    "\n",
    "import os #Load the os library\n",
    "print (dir(os))\n",
    "print(os.getcwd())\n",
    "import re #Load regular expression pattern matching library\n",
    "print(dir(re))\n"
   ]
  },
  {
   "cell_type": "markdown",
   "metadata": {},
   "source": [
    "# modules"
   ]
  },
  {
   "cell_type": "code",
   "execution_count": 33,
   "metadata": {
    "collapsed": false
   },
   "outputs": [
    {
     "name": "stdout",
     "output_type": "stream",
     "text": [
      "somthingelse\n",
      "['MyAge', '__builtins__', '__doc__', '__file__', '__name__', '__package__', 'title']\n",
      "Math 510 Fall 2015\n",
      "54\n",
      "somthingelse\n"
     ]
    }
   ],
   "source": [
    "title = 'somthingelse'\n",
    "print(title)\n",
    "\n",
    "import Class_1_Module\n",
    "print(dir(Class_1_Module))\n",
    "print(Class_1_Module.title)\n",
    "print(Class_1_Module.MyAge)\n",
    "\n",
    "print(title)\n"
   ]
  },
  {
   "cell_type": "code",
   "execution_count": 32,
   "metadata": {
    "collapsed": false
   },
   "outputs": [
    {
     "name": "stdout",
     "output_type": "stream",
     "text": [
      "Math 510 Fall 2015\n"
     ]
    }
   ],
   "source": [
    "from Class_1_Module import title\n",
    "print(title)"
   ]
  },
  {
   "cell_type": "markdown",
   "metadata": {},
   "source": [
    "#function "
   ]
  },
  {
   "cell_type": "markdown",
   "metadata": {},
   "source": [
    "# documentation"
   ]
  },
  {
   "cell_type": "code",
   "execution_count": 49,
   "metadata": {
    "collapsed": false
   },
   "outputs": [
    {
     "name": "stdout",
     "output_type": "stream",
     "text": [
      "166\n",
      "\n",
      "\n",
      "\n",
      "    This is a function document string or doc string.\n",
      "    This functions totals stuff.\n",
      "    \n",
      "    Parameters:\n",
      "    intitial - intitial value defaults to 5\n",
      "    *numbers - any nunber of numbers separated by commas\n",
      "    **keywords - any number of name=number pairs e.g. fruit=77\n",
      "    \n",
      "    gp-2015\n",
      "    \n"
     ]
    }
   ],
   "source": [
    "#calculates a total given parms\n",
    "def total(initial=5, *numbers, **keywords):\n",
    "    \"\"\"\n",
    "    This is a function document string or doc string.\n",
    "    This functions totals stuff.\n",
    "    \n",
    "    Parameters:\n",
    "    intitial - intitial value defaults to 5\n",
    "    *numbers - any nunber of numbers separated by commas\n",
    "    **keywords - any number of name=number pairs e.g. fruit=77\n",
    "    \n",
    "    gp-2015\n",
    "    \"\"\"\n",
    "    count = initial \n",
    "    for number in numbers:\n",
    "        count += number #numbrs stored in a tuple\n",
    "    for key in keywords :\n",
    "        count += keywords [key] #keywords stored in a dictionary\n",
    "    return count\n",
    "total_count = total (10, 1, 2, 3, vegetables=50, fruits=100)\n",
    "print (total_count)\n",
    "print ('\\n')\n",
    "print (total.__doc__)"
   ]
  },
  {
   "cell_type": "code",
   "execution_count": null,
   "metadata": {
    "collapsed": true
   },
   "outputs": [],
   "source": []
  }
 ],
 "metadata": {
  "kernelspec": {
   "display_name": "Python 2",
   "language": "python",
   "name": "python2"
  },
  "language_info": {
   "codemirror_mode": {
    "name": "ipython",
    "version": 2
   },
   "file_extension": ".py",
   "mimetype": "text/x-python",
   "name": "python",
   "nbconvert_exporter": "python",
   "pygments_lexer": "ipython2",
   "version": "2.7.10"
  }
 },
 "nbformat": 4,
 "nbformat_minor": 0
}
