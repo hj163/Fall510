{
 "cells": [
  {
   "cell_type": "markdown",
   "metadata": {},
   "source": [
    "SW: your functions need to return something, not just print to screen. otherwise, these are pretty concise implementations."
   ]
  },
  {
   "cell_type": "markdown",
   "metadata": {},
   "source": [
    "# question 1"
   ]
  },
  {
   "cell_type": "code",
   "execution_count": 1,
   "metadata": {
    "collapsed": false
   },
   "outputs": [
    {
     "name": "stdout",
     "output_type": "stream",
     "text": [
      "0\n",
      "1\n",
      "1\n",
      "2\n",
      "3\n",
      "5\n",
      "8\n",
      "13\n",
      "21\n",
      "34\n",
      "55\n",
      "89\n",
      "144\n",
      "0\n",
      "1\n",
      "1\n",
      "2\n",
      "3\n",
      "5\n",
      "8\n",
      "13\n",
      "21\n",
      "34\n",
      "55\n"
     ]
    }
   ],
   "source": [
    "# 1\n",
    "def fib (n):   \n",
    "    \"\"\"this is a fuction that takes a number n as parameter and prints the Fibonacci numbers less than n\n",
    "    \n",
    "    parameters:\n",
    "    n - the parameter which all the fibonacci numbers are less than\n",
    "    \"\"\"\n",
    "    a = 0          # create the variable that is value 0 as the first fibonacci number \n",
    "    b = 1          # create the seconde variable that now has the value 1 as the 2nd fibonacci number\n",
    "   \n",
    "    while b < n:    # when b<n, which is the goal of our function, we will print every a and b \n",
    "        print (a)   # print the fisrt two numbers\n",
    "        print (b)\n",
    "        a += b     # generate following numbers by adding the previous two numbers\n",
    "        b += a\n",
    "        \n",
    "    if a < n:\n",
    "        print (a)  # in such way print all the numebrs that are less than n\n",
    "#test\n",
    "fib(145)\n",
    "\n",
    "# SW: good"
   ]
  },
  {
   "cell_type": "markdown",
   "metadata": {},
   "source": [
    "# question 2"
   ]
  },
  {
   "cell_type": "code",
   "execution_count": 11,
   "metadata": {
    "collapsed": false
   },
   "outputs": [
    {
     "name": "stdout",
     "output_type": "stream",
     "text": [
      "99\n",
      "1\n"
     ]
    }
   ],
   "source": [
    "#2\n",
    "def mymax (a, b):\n",
    "    \"\"\"\n",
    "    this function takes two numbers and returns the larget of them\n",
    "    \n",
    "    parameter:\n",
    "    a - one number\n",
    "    b - another number to be compared\n",
    "    \"\"\"\n",
    "    if a > b:\n",
    "        print (a)  #print a if a is the larger one\n",
    "    else:\n",
    "        print (b) #print b if b is the larger one or a=b, since we only want the largest one, it doesnt matter if it is a or b in this care\n",
    "#test\n",
    "mymax (88,99)\n",
    "mymax (1,1)\n",
    "\n",
    "# SW: lost points: you aren't actually returning anything, just printing to screen"
   ]
  },
  {
   "cell_type": "markdown",
   "metadata": {},
   "source": [
    "# question 3"
   ]
  },
  {
   "cell_type": "code",
   "execution_count": 31,
   "metadata": {
    "collapsed": false
   },
   "outputs": [
    {
     "name": "stdout",
     "output_type": "stream",
     "text": [
      "9\n",
      "2\n"
     ]
    }
   ],
   "source": [
    "#3\n",
    "def max_of_three (a, b, c):\n",
    "    \"\"\"\n",
    "    this function takes three numbers and returns the largest of them\n",
    "    \n",
    "    parameter:\n",
    "    a - the number to be compared\n",
    "    b-  the number to be compared\n",
    "    c - another number to be compared\n",
    "    \"\"\"\n",
    "    if a>= b and a>= c: #if a the largets one print a\n",
    "        print (a)\n",
    "    if b>= a and b>= c: #if b is the largest one print b\n",
    "        print (b)\n",
    "    else :\n",
    "        print (c)    # neither b nor a is the largest, print c\n",
    "#test\n",
    "max_of_three (2,5,9)\n",
    "max_of_three (1,2,2)\n",
    "\n",
    "# SW: you only need 3 comparisons: a to b, a to c, and b to c.\n",
    "# lost points: function doesn't return anything"
   ]
  },
  {
   "cell_type": "markdown",
   "metadata": {},
   "source": [
    "# question 4"
   ]
  },
  {
   "cell_type": "code",
   "execution_count": 5,
   "metadata": {
    "collapsed": false
   },
   "outputs": [
    {
     "name": "stdout",
     "output_type": "stream",
     "text": [
      "15\n",
      "3\n"
     ]
    }
   ],
   "source": [
    "#4\n",
    "def mylen (input):\n",
    "    \"\"\"\n",
    "    this is a function that computes the length of a given list or string\n",
    "    \n",
    "    parameter:\n",
    "    input - a list or a string whose length will be computed\n",
    "    \"\"\"\n",
    "    length = 0    # create a variable length has value 0 as the starting one\n",
    "    for i in input:  # for element or character/length in input\n",
    "        length = length + 1 #we compute the length by adding one for each element\n",
    "    print (length)\n",
    "#test\n",
    "mylen (\"how are you????\")\n",
    "mylen ([1,2,0])\n",
    "\n",
    "# SW: concise implementation\n",
    "# lost points: function doesn't return anything"
   ]
  },
  {
   "cell_type": "markdown",
   "metadata": {},
   "source": [
    "# question 5"
   ]
  },
  {
   "cell_type": "code",
   "execution_count": 2,
   "metadata": {
    "collapsed": false
   },
   "outputs": [
    {
     "name": "stdout",
     "output_type": "stream",
     "text": [
      "True\n",
      "True\n",
      "False\n",
      "<class 'str'>\n",
      "<class 'bool'>\n"
     ]
    }
   ],
   "source": [
    "#5\n",
    "def vowel (input):\n",
    "    \"\"\"\n",
    "    this is a function that takes a character and returns True if it is a vowe, alse otherwise\n",
    "    \n",
    "    parameters:\n",
    "    input - the character to be tested\n",
    "    \"\"\"\n",
    "    if input in 'aeiou' or input in 'AEIOU': #if the input character is in aeiou or AEIOU, which is a vowe, print true\n",
    "        print ('True')\n",
    "    else:\n",
    "        print ('False') # if not a vowel, print false\n",
    "#test\n",
    "vowel('A')\n",
    "vowel('o')\n",
    "vowel('g')\n",
    "\n",
    "# SW: lost points: function doesn't return anything. and, watch your 'intended' return types. 'True' is not the same\n",
    "# as True, see below.\n",
    "print(type('True'))\n",
    "print(type(True))"
   ]
  },
  {
   "cell_type": "markdown",
   "metadata": {},
   "source": [
    "# question 6"
   ]
  },
  {
   "cell_type": "code",
   "execution_count": 4,
   "metadata": {
    "collapsed": false
   },
   "outputs": [
    {
     "name": "stdout",
     "output_type": "stream",
     "text": [
      "tothohisos isos fofunon"
     ]
    }
   ],
   "source": [
    "#6\n",
    "def translate (input):\n",
    "    \"\"\"\n",
    "    this is a function that translates a text into a language that doubles every consonant and place an 'o' in between\n",
    "    \n",
    "    parameters:\n",
    "    input - the text to be traslated\n",
    "    \"\"\"\n",
    "    consonant = ['b','c','d','f','g','h','j','k','l','m','n','p','q','r','s','t','v','x','y','z'] # create a variable that is a list containg all the cosonant\n",
    "    inputletter = input # create a variable that equals the input text \n",
    "    for i in inputletter: #for each element in inputletter\n",
    "        if i in consonant:  # if such lement is a consonat, we create a new variable,translated text, t_input, as double such element and put 'o' inbetween\n",
    "            t_input = i+'o'+i\n",
    "            print (t_input, end='') #print the output with o in between of two doubled consonat. end='' makes the every output together like it were before \n",
    "        else:\n",
    "            print (i, end='') \n",
    "#test\n",
    "translate (\"this is fun\")\n",
    "\n",
    "# SW: is it easier to keep track of the consonants or the vowels? the vowels are a shorter list, and you can use\n",
    "# logic to do the comparison just as easily.\n",
    "# lost points: function doesn't return anything"
   ]
  },
  {
   "cell_type": "markdown",
   "metadata": {},
   "source": [
    "# question 7"
   ]
  },
  {
   "cell_type": "code",
   "execution_count": 5,
   "metadata": {
    "collapsed": false
   },
   "outputs": [
    {
     "name": "stdout",
     "output_type": "stream",
     "text": [
      "10\n",
      "0\n",
      "24\n",
      "0\n"
     ]
    }
   ],
   "source": [
    "#7\n",
    "def sum(inputnumbers):\n",
    "    \"\"\"\n",
    "    this function sums all the numbers in a list of numbers\n",
    "    \n",
    "    parameters:\n",
    "    inputnumbers - numbers in the list to be added up\n",
    "    \"\"\"\n",
    "    s=0    # create the starting variable = 0\n",
    "    for i in inputnumbers: # for each elment or number in inputnumbers, we add them one by one\n",
    "        s=s+i\n",
    "    print (s)\n",
    "#test\n",
    "sum([1,2,3,4])\n",
    "sum([0,-1,1])\n",
    "\n",
    "# SW: lost points: function doesn't return anything\n",
    "\n",
    "\n",
    "def multiply(inputnumbers):\n",
    "    \"\"\"\n",
    "    this function multiplies all the numbers in a list of numbers\n",
    "    \n",
    "    parameters:\n",
    "    inputnumbers - numbers to be multiplied one by one\n",
    "    \"\"\"\n",
    "     \n",
    "    m=1  #set the starting variable with value one\n",
    "    for i in inputnumbers: # for each number in the list we muliply them one by one\n",
    "        m=m*i\n",
    "    print (m)\n",
    "#test\n",
    "multiply([1,2,3,4])\n",
    "multiply([0,1,2,3])\n",
    "\n",
    "# SW: lost points: function doesn't return anything"
   ]
  },
  {
   "cell_type": "markdown",
   "metadata": {},
   "source": [
    "# question 8"
   ]
  },
  {
   "cell_type": "code",
   "execution_count": 6,
   "metadata": {
    "collapsed": false
   },
   "outputs": [
    {
     "data": {
      "text/plain": [
       "'gnitset ma I'"
      ]
     },
     "execution_count": 6,
     "metadata": {},
     "output_type": "execute_result"
    }
   ],
   "source": [
    "#8\n",
    "def reverse(input):\n",
    "    \"\"\"\n",
    "    this function computes the reversal of a string\n",
    "    \n",
    "    parameter:\n",
    "    input - the string to be reversed\n",
    "    \"\"\"\n",
    "    l = len(input) # create the variable l equals the length of input string\n",
    "    i = l-1  # create a variable that is one less than the lenght of input string, as from left to right is from 0. so i th element of a string will be last of the string\n",
    "    reversedinput = \"\" # create the variable that is currently empty\n",
    "    while i>= 0:   # genearte the list from the most right element, i = i-1 means from right to left one by one. so we can reverse the original one.\n",
    "        reversedinput = reversedinput + input[i] \n",
    "        i = i-1\n",
    "    return reversedinput\n",
    "#test\n",
    "reverse ('I am testing')\n",
    "\n",
    "# SW: good, now you are returning something"
   ]
  },
  {
   "cell_type": "markdown",
   "metadata": {},
   "source": [
    "# question 9"
   ]
  },
  {
   "cell_type": "code",
   "execution_count": 9,
   "metadata": {
    "collapsed": false
   },
   "outputs": [
    {
     "name": "stdout",
     "output_type": "stream",
     "text": [
      "True\n",
      "True\n",
      "False\n"
     ]
    }
   ],
   "source": [
    "#9\n",
    "def is_palindrome (input):\n",
    "    \"\"\"\n",
    "    this function recognizes palindromes that words looing the same written backwards\n",
    "    \n",
    "    parameters \n",
    "    input - words to be tested\n",
    "    \"\"\"\n",
    "    l = len(input) # create the variable equals the length of the input\n",
    "    i = l-1   # create the variable one less than the length, so we can locate the last letter is input[i]\n",
    "    reversedinput = \"\"  # a currently empty varaible\n",
    "    while i>= 0:  # basically reverse the word by adding the letter from the most right to most left\n",
    "        reversedinput = reversedinput + input[i]  \n",
    "        i = i-1\n",
    "    if (reversedinput == input): # if the reverse is the same as the input, then it is palindrome\n",
    "        print ('True')\n",
    "    else:\n",
    "        print ('False')\n",
    "#test\n",
    "is_palindrome ('radar')\n",
    "is_palindrome(\"refer\")\n",
    "is_palindrome('ok')\n",
    "\n",
    "# SW: lost points: function doesn't return anything"
   ]
  },
  {
   "cell_type": "markdown",
   "metadata": {},
   "source": [
    "# question 10"
   ]
  },
  {
   "cell_type": "code",
   "execution_count": 12,
   "metadata": {
    "collapsed": false
   },
   "outputs": [
    {
     "name": "stdout",
     "output_type": "stream",
     "text": [
      "True\n",
      "False\n"
     ]
    }
   ],
   "source": [
    "#10\n",
    "def is_member(x,a):\n",
    "    \"\"\"\n",
    "    this is a function that takes a value x and a list of values a, and returns true if x is a member of a , false otherwise\n",
    "    \n",
    "    parameters:\n",
    "    x - a value in the list a to be tested\n",
    "    a - a given list of values \n",
    "    \"\"\"\n",
    "  \n",
    "    b = False   # create a variable that gives the statement false. so only and if only x is in a would b changed to Ture.\n",
    "    for i in a: # for each number in a \n",
    "        if x == i: # if x euqals that nunber, which means x is in the list a, we change b to true and print it\n",
    "            b = True\n",
    "        \n",
    "    print (b)\n",
    "    \n",
    "\n",
    "is_member(1,[1,2,3,90])\n",
    "is_member(9,[1,2,3,4])\n",
    "\n",
    "# SW: lost points: function doesn't return anything"
   ]
  },
  {
   "cell_type": "markdown",
   "metadata": {},
   "source": [
    "# question 11"
   ]
  },
  {
   "cell_type": "code",
   "execution_count": 47,
   "metadata": {
    "collapsed": false
   },
   "outputs": [
    {
     "name": "stdout",
     "output_type": "stream",
     "text": [
      "True\n",
      "False\n"
     ]
    }
   ],
   "source": [
    "#11\n",
    "def overlapping(list1, list2):\n",
    "    \"\"\"\n",
    "    this is a function that takes two lists and returns True if they have at least one member in common false otherwise. \n",
    "    \n",
    "    parameters:\n",
    "    list1 - first list to be checked \n",
    "    list2 - 2nd list to be checked\n",
    "    \"\"\"\n",
    "    b=False   # create a variable that gives the statement false. so only and if only two lists have one member in common would b changed to Ture.\n",
    "    for i in list1:  # for each number in list1\n",
    "        for j in list2: #for each number in list2\n",
    "            if i == j:  #if one number in list1 is the same as the one in list2, we change b to true and print it\n",
    "                b = True\n",
    "    print (b)\n",
    "\n",
    "           \n",
    "overlapping ([1,2,3],[2,5,9])\n",
    "overlapping ([1,3,5,9,7],[2,4,6,8,10])\n",
    "\n",
    "# SW: lost points: function doesn't return anything"
   ]
  },
  {
   "cell_type": "markdown",
   "metadata": {},
   "source": [
    "# question 12"
   ]
  },
  {
   "cell_type": "code",
   "execution_count": 13,
   "metadata": {
    "collapsed": false
   },
   "outputs": [
    {
     "data": {
      "text/plain": [
       "''"
      ]
     },
     "execution_count": 13,
     "metadata": {},
     "output_type": "execute_result"
    }
   ],
   "source": [
    "#12\n",
    "def generate_n_chars(integer,character):\n",
    "    \"\"\"\n",
    "    this fucntion takes an integer n and a character c and returns a string of n characters long consisiting olny of cs.\n",
    "    \n",
    "    parameters:\n",
    "    integer - a integer number n that will decide how long will the string be\n",
    "    character - a characeter that will form the string\n",
    "    \"\"\"\n",
    "    output = ''  #create an empty variable that will be added up to the output we want later\n",
    "    for i in range(integer): #range(integer) creates a list of number from 0 to n-1. for i in such list \n",
    "        output = output + character # output is genereated by adding a new character to the previous output \n",
    "        \n",
    "    return output\n",
    "generate_n_chars (99,'p')\n",
    "\n",
    "# SW: good, function is returning"
   ]
  },
  {
   "cell_type": "code",
   "execution_count": null,
   "metadata": {
    "collapsed": true
   },
   "outputs": [],
   "source": [
    "\n",
    "\n",
    "\n",
    "\n",
    "\n",
    "\n",
    "\n",
    "\n",
    "\n",
    "\n"
   ]
  },
  {
   "cell_type": "code",
   "execution_count": null,
   "metadata": {
    "collapsed": true
   },
   "outputs": [],
   "source": []
  }
 ],
 "metadata": {
  "kernelspec": {
   "display_name": "Python 3",
   "language": "python",
   "name": "python3"
  },
  "language_info": {
   "codemirror_mode": {
    "name": "ipython",
    "version": 3
   },
   "file_extension": ".py",
   "mimetype": "text/x-python",
   "name": "python",
   "nbconvert_exporter": "python",
   "pygments_lexer": "ipython3",
   "version": "3.4.3"
  }
 },
 "nbformat": 4,
 "nbformat_minor": 0
}
