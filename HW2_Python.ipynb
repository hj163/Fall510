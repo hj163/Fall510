{
 "cells": [
  {
   "cell_type": "markdown",
   "metadata": {},
   "source": [
    "# question 1"
   ]
  },
  {
   "cell_type": "code",
   "execution_count": null,
   "metadata": {
    "collapsed": true
   },
   "outputs": [],
   "source": [
    "# 1\n",
    "def fib (n):         \n",
    "    a = 0            \n",
    "    b = 1\n",
    "   \n",
    "    while b < n:     \n",
    "        print (a)\n",
    "        print (b)\n",
    "        a += b\n",
    "        b += a\n",
    "        \n",
    "    if a < n:\n",
    "        print (a)\n",
    "#test\n",
    "fib(145)\n",
    "\n",
    " "
   ]
  },
  {
   "cell_type": "markdown",
   "metadata": {},
   "source": [
    "# question 2"
   ]
  },
  {
   "cell_type": "code",
   "execution_count": 11,
   "metadata": {
    "collapsed": false
   },
   "outputs": [
    {
     "name": "stdout",
     "output_type": "stream",
     "text": [
      "99\n",
      "1\n"
     ]
    }
   ],
   "source": [
    "#2\n",
    "def mymax (a, b):\n",
    "    if a > b:\n",
    "        print (a)\n",
    "    else:\n",
    "        print (b)\n",
    "#test\n",
    "mymax (88,99)\n",
    "mymax (1,1)"
   ]
  },
  {
   "cell_type": "markdown",
   "metadata": {},
   "source": [
    "# question 3"
   ]
  },
  {
   "cell_type": "code",
   "execution_count": 31,
   "metadata": {
    "collapsed": false
   },
   "outputs": [
    {
     "name": "stdout",
     "output_type": "stream",
     "text": [
      "9\n",
      "2\n"
     ]
    }
   ],
   "source": [
    "#3\n",
    "def max_of_three (a, b, c):\n",
    "    if a>= b and a>= c:\n",
    "        print (a)\n",
    "    if b>= a and b>= c:\n",
    "        print (b)\n",
    "    else :\n",
    "        print (c)\n",
    "#test\n",
    "max_of_three (2,5,9)\n",
    "max_of_three (1,2,2)"
   ]
  },
  {
   "cell_type": "markdown",
   "metadata": {},
   "source": [
    "# question 4"
   ]
  },
  {
   "cell_type": "code",
   "execution_count": 32,
   "metadata": {
    "collapsed": false
   },
   "outputs": [
    {
     "name": "stdout",
     "output_type": "stream",
     "text": [
      "11\n",
      "3\n"
     ]
    }
   ],
   "source": [
    "#4\n",
    "def mylen (input):\n",
    "    length = 0\n",
    "    for i in input:\n",
    "        length = length + 1\n",
    "    print (length)\n",
    "#test\n",
    "mylen (\"how are you\")\n",
    "mylen ([1,2,3])"
   ]
  },
  {
   "cell_type": "markdown",
   "metadata": {},
   "source": [
    "# question 5"
   ]
  },
  {
   "cell_type": "code",
   "execution_count": 122,
   "metadata": {
    "collapsed": false
   },
   "outputs": [
    {
     "name": "stdout",
     "output_type": "stream",
     "text": [
      "True\n",
      "True\n",
      "False\n"
     ]
    }
   ],
   "source": [
    "#5\n",
    "def vowel (input):\n",
    "    if input in 'aeiou' or input in 'AEIOU':\n",
    "        print ('True')\n",
    "    else:\n",
    "        print ('False')\n",
    "#test\n",
    "vowel('A')\n",
    "vowel('o')\n",
    "vowel('g')"
   ]
  },
  {
   "cell_type": "markdown",
   "metadata": {},
   "source": [
    "# question 6"
   ]
  },
  {
   "cell_type": "code",
   "execution_count": 124,
   "metadata": {
    "collapsed": false
   },
   "outputs": [
    {
     "name": "stdout",
     "output_type": "stream",
     "text": [
      "tothohisos isos fofunon"
     ]
    }
   ],
   "source": [
    "#6\n",
    "def translate (input):\n",
    "    consonant = ['b','c','d','f','g','h','j','k','l','m','n','p','q','r','s','t','v','x','y','z']\n",
    "    inputletter = list (input)\n",
    "    for i in inputletter:\n",
    "        if i in consonant:\n",
    "            t_input = i+'o'+i\n",
    "            print (t_input, end='')\n",
    "        else:\n",
    "            print (i, end='')\n",
    "#test\n",
    "translate (\"this is fun\")\n"
   ]
  },
  {
   "cell_type": "markdown",
   "metadata": {},
   "source": [
    "# question 7"
   ]
  },
  {
   "cell_type": "code",
   "execution_count": 46,
   "metadata": {
    "collapsed": false
   },
   "outputs": [
    {
     "name": "stdout",
     "output_type": "stream",
     "text": [
      "10\n",
      "0\n",
      "24\n",
      "0\n"
     ]
    }
   ],
   "source": [
    "#7\n",
    "def sum(inputnumbers):\n",
    "    s=0\n",
    "    for i in inputnumbers:\n",
    "        s=s+i\n",
    "    print (s)\n",
    "#test\n",
    "sum([1,2,3,4])\n",
    "sum([0,-1,1])\n",
    "\n",
    "\n",
    "def multiply(inputnumbers):\n",
    "    m=1\n",
    "    for i in inputnumbers:\n",
    "        m=m*i\n",
    "    print (m)\n",
    "#test\n",
    "multiply([1,2,3,4])\n",
    "multiply([0,1,2,3])"
   ]
  },
  {
   "cell_type": "markdown",
   "metadata": {},
   "source": [
    "# question 8"
   ]
  },
  {
   "cell_type": "code",
   "execution_count": 48,
   "metadata": {
    "collapsed": false
   },
   "outputs": [
    {
     "data": {
      "text/plain": [
       "'gnitset ma I'"
      ]
     },
     "execution_count": 48,
     "metadata": {},
     "output_type": "execute_result"
    }
   ],
   "source": [
    "#8\n",
    "def reverse(input):\n",
    "    l = len(input)\n",
    "    i = l-1\n",
    "    reversedinput = \"\"\n",
    "    while i>= 0:\n",
    "        reversedinput = reversedinput + input[i]\n",
    "        i = i-1\n",
    "    return reversedinput\n",
    "#test\n",
    "reverse ('I am testing')"
   ]
  },
  {
   "cell_type": "markdown",
   "metadata": {},
   "source": [
    "# question 9"
   ]
  },
  {
   "cell_type": "code",
   "execution_count": 53,
   "metadata": {
    "collapsed": false
   },
   "outputs": [
    {
     "name": "stdout",
     "output_type": "stream",
     "text": [
      "True\n",
      "True\n",
      "False\n"
     ]
    }
   ],
   "source": [
    "#9\n",
    "def is_palindrome (input):\n",
    "    l = len(input)\n",
    "    i = l-1\n",
    "    reversedinput = \"\"\n",
    "    while i>= 0:\n",
    "        reversedinput = reversedinput + input[i]\n",
    "        i = i-1\n",
    "    if (reversedinput == input):\n",
    "        print ('True')\n",
    "    else:\n",
    "        print ('False')\n",
    "#test\n",
    "is_palindrome ('radar')\n",
    "is_palindrome(\"refer\")\n",
    "is_palindrome('ok')"
   ]
  },
  {
   "cell_type": "markdown",
   "metadata": {},
   "source": [
    "# question 10"
   ]
  },
  {
   "cell_type": "code",
   "execution_count": 6,
   "metadata": {
    "collapsed": false
   },
   "outputs": [
    {
     "name": "stdout",
     "output_type": "stream",
     "text": [
      "True\n",
      "False\n"
     ]
    }
   ],
   "source": [
    "#10\n",
    "def is_member(x,a):\n",
    "  \n",
    "    b = False\n",
    "    for i in range(len(a)):\n",
    "        if x == a[i]:\n",
    "            b = True\n",
    "        \n",
    "    print (b)\n",
    "    \n",
    "\n",
    "is_member(5,[1,2,3,5])\n",
    "is_member(0,[1,2,3,4])\n"
   ]
  },
  {
   "cell_type": "markdown",
   "metadata": {},
   "source": [
    "# question 11"
   ]
  },
  {
   "cell_type": "code",
   "execution_count": 112,
   "metadata": {
    "collapsed": false
   },
   "outputs": [
    {
     "name": "stdout",
     "output_type": "stream",
     "text": [
      "True\n",
      "False\n"
     ]
    }
   ],
   "source": [
    "#11\n",
    "def overlapping(list1, list2):\n",
    "    b=False\n",
    "    for i in range(len(list1)):\n",
    "        for j in range(len(list2)):\n",
    "            if list1[i] == list2[j]:\n",
    "                b = True\n",
    "    print (b)\n",
    "\n",
    "           \n",
    "overlapping ([1,2,3],[2,5,9])\n",
    "overlapping ([1,3,5,9,7],[2,4,6,8,10])"
   ]
  },
  {
   "cell_type": "markdown",
   "metadata": {},
   "source": [
    "# question 12"
   ]
  },
  {
   "cell_type": "code",
   "execution_count": 114,
   "metadata": {
    "collapsed": false
   },
   "outputs": [
    {
     "data": {
      "text/plain": [
       "'pppppppppp'"
      ]
     },
     "execution_count": 114,
     "metadata": {},
     "output_type": "execute_result"
    }
   ],
   "source": [
    "#12\n",
    "def generate_n_chars(integer,character):\n",
    "    output = ''\n",
    "    for i in range(integer):\n",
    "        output = output + character\n",
    "        \n",
    "    return output\n",
    "generate_n_chars (10,'p')"
   ]
  },
  {
   "cell_type": "code",
   "execution_count": null,
   "metadata": {
    "collapsed": true
   },
   "outputs": [],
   "source": []
  },
  {
   "cell_type": "code",
   "execution_count": null,
   "metadata": {
    "collapsed": true
   },
   "outputs": [],
   "source": []
  }
 ],
 "metadata": {
  "kernelspec": {
   "display_name": "Python 3",
   "language": "python",
   "name": "python3"
  },
  "language_info": {
   "codemirror_mode": {
    "name": "ipython",
    "version": 3
   },
   "file_extension": ".py",
   "mimetype": "text/x-python",
   "name": "python",
   "nbconvert_exporter": "python",
   "pygments_lexer": "ipython3",
   "version": "3.4.3"
  }
 },
 "nbformat": 4,
 "nbformat_minor": 0
}
