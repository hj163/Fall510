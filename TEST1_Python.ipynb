{
 "cells": [
  {
   "cell_type": "markdown",
   "metadata": {},
   "source": [
    "# Python test1 Hong Jiang"
   ]
  },
  {
   "cell_type": "code",
   "execution_count": 3,
   "metadata": {
    "collapsed": false
   },
   "outputs": [
    {
     "name": "stdout",
     "output_type": "stream",
     "text": [
      "12.0\n",
      "6.0\n"
     ]
    }
   ],
   "source": [
    "def polygperim(coords):\n",
    "    \"\"\"\n",
    "    this function takes a vector of ordered pairs that represent the vertices of a polygon\n",
    "    and outputs the perimeter of that polygon.\n",
    "    \n",
    "    parameters:\n",
    "    coords - representing the vertices of a polygon\n",
    "    \"\"\"\n",
    "    n=len(coords) # we create the variable n and give it the value of the number of vertices by using the len() function\n",
    "    perimeter = 0 # set the return variable perimeter equals 0 for now\n",
    "    for i in range(n): # loop through each pair of points in our list so we can take distance between them\n",
    "        j=(i+1)%n  # in case of out of range, this allows for n+1=1\n",
    "        perimeter = perimeter + ((coords[j][0]-coords[i][0])**2 + (coords[j][1]-coords[i][1])**2)**(1/2)\n",
    "        #using the distance formula we can find the distance between each adjacent vertices and we add it together\n",
    "    return perimeter \n",
    "#test\n",
    "square = [(0, 0), (3,0), (3,3), (0,3)]\n",
    "print(polygperim(square))\n",
    "equilateraltriangle = [(0,0),(2,0),(1,3**(1/2))]\n",
    "print(polygperim(equilateraltriangle))"
   ]
  },
  {
   "cell_type": "code",
   "execution_count": 5,
   "metadata": {
    "collapsed": false
   },
   "outputs": [
    {
     "name": "stdout",
     "output_type": "stream",
     "text": [
      "9.0\n",
      "1.7320508075688772\n"
     ]
    }
   ],
   "source": [
    "def polygarea(coords):\n",
    "    \"\"\"\n",
    "    this function takes a vector of ordered pairs that represent the vertices of a polygon\n",
    "    and outputs the area of that polygon using Green's theorem\n",
    "    \n",
    "    parameters\n",
    "    coords - a vector of ordered pairs that represent the vertices of a polygon\n",
    "    \"\"\"\n",
    "    n=len(coords)  # we create the variable n and give it the value of the number of vertices by using the len() function\n",
    "    area=0 #initiate the return variable to zeor\n",
    "    for i in range(n): #loop through each pair of points in our list, so that we may apply Green's theorem\n",
    "        j=(i+1)%n  # in case of out of range, this allows for n+1=1\n",
    "        area=area+coords[i][0]*coords[j][1]\n",
    "        area=area-coords[j][0]*coords[i][1]\n",
    "        #We evaluate the inner sum in Green's theorem\n",
    "    area = (1/2)*abs(area) #now take the absolute value of that inner sum and divide by two to complete Green's theorem\n",
    "    return area\n",
    "#test\n",
    "square = [(0, 0), (3, 0), (3, 3), (0,3)]\n",
    "print(polygarea(square))\n",
    "equilateraltriangle = [(0,0),(2,0),(1,3**(1/2))]\n",
    "print(polygarea(equilateraltriangle))"
   ]
  },
  {
   "cell_type": "code",
   "execution_count": null,
   "metadata": {
    "collapsed": true
   },
   "outputs": [],
   "source": []
  }
 ],
 "metadata": {
  "kernelspec": {
   "display_name": "Python 3",
   "language": "python",
   "name": "python3"
  },
  "language_info": {
   "codemirror_mode": {
    "name": "ipython",
    "version": 3
   },
   "file_extension": ".py",
   "mimetype": "text/x-python",
   "name": "python",
   "nbconvert_exporter": "python",
   "pygments_lexer": "ipython3",
   "version": "3.4.3"
  }
 },
 "nbformat": 4,
 "nbformat_minor": 0
}
