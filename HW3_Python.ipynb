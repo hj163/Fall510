{
 "cells": [
  {
   "cell_type": "markdown",
   "metadata": {},
   "source": [
    "# question 1"
   ]
  },
  {
   "cell_type": "code",
   "execution_count": 8,
   "metadata": {
    "collapsed": false
   },
   "outputs": [
    {
     "name": "stdout",
     "output_type": "stream",
     "text": [
      "****\n",
      "*********\n",
      "*******\n"
     ]
    }
   ],
   "source": [
    "def histogram(integerlist):\n",
    "    \"\"\"\n",
    "    this is a function that takes a list of integers and prints a histogram to the screen\n",
    "    \n",
    "    parameter:\n",
    "    intergerlist - an integer in the list\n",
    "    \"\"\"\n",
    "    for i in range(len(integerlist)): #take the length of an integer in the list\n",
    "        print (integerlist[i]*'*') #print \"*\"s, the # of \"*\" is determined by the lengh we took from previous step\n",
    "\n",
    "histogram ([4,9,7]) \n",
    "        \n",
    "    "
   ]
  },
  {
   "cell_type": "markdown",
   "metadata": {},
   "source": [
    "# question 2"
   ]
  },
  {
   "cell_type": "code",
   "execution_count": 11,
   "metadata": {
    "collapsed": false
   },
   "outputs": [
    {
     "data": {
      "text/plain": [
       "878"
      ]
     },
     "execution_count": 11,
     "metadata": {},
     "output_type": "execute_result"
    }
   ],
   "source": [
    "def max_in_list(list_of_numbers):\n",
    "    \"\"\"\n",
    "    this is a function that outputs the biggest number from a list of numbers.\n",
    "   \n",
    "    parameter:\n",
    "    list_of_number - the list of numbers\n",
    "    \"\"\"\n",
    "    sorted_list = sorted(list_of_numbers) #creating a variable that sorts the numbers in the lists from small to big, left to right\n",
    "    return sorted_list[-1] # output the number in the last position, which is the max number\n",
    "\n",
    "max_in_list([1,3,444,667,878,3])\n"
   ]
  },
  {
   "cell_type": "markdown",
   "metadata": {},
   "source": [
    "# question 3"
   ]
  },
  {
   "cell_type": "code",
   "execution_count": 15,
   "metadata": {
    "collapsed": false
   },
   "outputs": [
    {
     "data": {
      "text/plain": [
       "[5, 3, 3, 1]"
      ]
     },
     "execution_count": 15,
     "metadata": {},
     "output_type": "execute_result"
    }
   ],
   "source": [
    "def word_to_number(wordlist):\n",
    "    \"\"\"\n",
    "    this is a fucntion that maps a list of words into a list of integers that represen the lengths of the words\n",
    "    \n",
    "    parameters:\n",
    "    wordlist - a list of words\n",
    "    \"\"\"\n",
    "    number_list = [] #create a variable that is currently an empty list\n",
    "    for i in wordlist: #take an element from wordlist\n",
    "        number_list = number_list + [len(i)] #for each word we choose from the list, we add its length to the list\n",
    "    return number_list\n",
    "    \n",
    "word_to_number(['hello','how','are','u'])"
   ]
  },
  {
   "cell_type": "markdown",
   "metadata": {},
   "source": [
    "# question 4"
   ]
  },
  {
   "cell_type": "code",
   "execution_count": 16,
   "metadata": {
    "collapsed": false
   },
   "outputs": [
    {
     "data": {
      "text/plain": [
       "6"
      ]
     },
     "execution_count": 16,
     "metadata": {},
     "output_type": "execute_result"
    }
   ],
   "source": [
    "def find_longest_word(wordlist):\n",
    "    \"\"\"\n",
    "    this is a function that takes a list of words and returns the length of the longest one\n",
    "    \n",
    "    parameters:\n",
    "    wordlist - a list of words\n",
    "    \"\"\"\n",
    "    longest_word = len(wordlist[0]) #create a variable that takes the length of the words in the lest from very left\n",
    "    for i in wordlist: #take an element form wordlist\n",
    "        if len(i) > longest_word: \n",
    "            longest_word = len(i) #if a word from wordlist is longger than the one from the very left, we take that longer one\n",
    "    return longest_word  #output the length of one that no ohter word is longger than. or the longest one\n",
    "\n",
    "find_longest_word(['aaaaaa','hello','there'])"
   ]
  },
  {
   "cell_type": "markdown",
   "metadata": {},
   "source": [
    "# question 5"
   ]
  },
  {
   "cell_type": "code",
   "execution_count": 23,
   "metadata": {
    "collapsed": false
   },
   "outputs": [
    {
     "data": {
      "text/plain": [
       "['significant']"
      ]
     },
     "execution_count": 23,
     "metadata": {},
     "output_type": "execute_result"
    }
   ],
   "source": [
    "def filter_long_words(wordlist,n):\n",
    "    \"\"\"\n",
    "    this is a fucntion that takes a list of words and integer n and returns the list of words that longer than n\n",
    "    \n",
    "    parameter:\n",
    "    wordlist - a list of words\n",
    "    n - an integer\n",
    "    \"\"\"\n",
    "    list_of_words = [] # create a variable that we want at the end but now is an empty list\n",
    "    for i in range(len(wordlist)): #take the length of every word \n",
    "        if len(wordlist[i]) > n: # if the lenght of that word is greater the n\n",
    "            list_of_words = list_of_words + [wordlist[i]]  # we add those words to the list we want\n",
    "    return list_of_words\n",
    "\n",
    "filter_long_words(['hello','ok','significant'], 5)"
   ]
  },
  {
   "cell_type": "markdown",
   "metadata": {},
   "source": [
    "# question 6"
   ]
  },
  {
   "cell_type": "code",
   "execution_count": 34,
   "metadata": {
    "collapsed": false
   },
   "outputs": [
    {
     "name": "stdout",
     "output_type": "stream",
     "text": [
      "True\n"
     ]
    }
   ],
   "source": [
    "def is_palindrome(string):\n",
    "    \"\"\"\n",
    "    this s a funtion that takes a string of text and returns True if such string is a palindrome,\n",
    "    regardless of punctuation,capitalization and spacing\n",
    "    \n",
    "    parameters:\n",
    "    string - the words or sentences\n",
    "    \"\"\"\n",
    "    string = string.lower() # make the input string of texts lowercase\n",
    "    new_string = '' #we want to make a new string only consisting of characters\n",
    "    for i in range(len(string)): \n",
    "        if string[i] != '!' and string[i] != ',' and string[i] != '.' and string[i] != '?'and string[i] != ' ':\n",
    "            new_string = new_string + string[i]  \n",
    "    reverse = '' #create a variable that is the reverse of the new_string\n",
    "    for i2 in range(len(new_string)-1,-1,-1):\n",
    "        reverse = reverse + new_string[i2]\n",
    "    if new_string == reverse:\n",
    "        return True\n",
    "    else:\n",
    "        return False\n",
    "    \n",
    "print (is_palindrome(\"Step on no pets!\"))\n",
    "        "
   ]
  },
  {
   "cell_type": "markdown",
   "metadata": {},
   "source": [
    "# question 7"
   ]
  },
  {
   "cell_type": "code",
   "execution_count": 47,
   "metadata": {
    "collapsed": false
   },
   "outputs": [
    {
     "data": {
      "text/plain": [
       "True"
      ]
     },
     "execution_count": 47,
     "metadata": {},
     "output_type": "execute_result"
    }
   ],
   "source": [
    "def is_pangram(sentence):\n",
    "    \"\"\"\n",
    "    this function is to check a sentence if it is a panagram or not - contains all the letters at least onece\n",
    "    \n",
    "    parameters:\n",
    "    sentence - a sentence we will check\n",
    "    \"\"\"\n",
    "    alphabet = 'abcdefghijklmnopqrstuvwxyz' #create a variable that contains the 26 letters\n",
    "    alphabetcount = 0 #create a variable that we will use to see the number of letters in a sentence\n",
    "    sentence = sentence.lower() #change the letters of sentence we put to lowercase for convience\n",
    "    if len(sentence) < 26 :\n",
    "        return False # the length of a sentence that contains all the letters at least onece must be greater than 26\n",
    "    else:\n",
    "        for i in range(len(alphabet)): \n",
    "            if alphabet[i] in sentence:\n",
    "                alphabetcount = alphabetcount + 1 # a character in our variable alphabet then the count is 1 and so on\n",
    "                \n",
    "        if alphabetcount ==26: # if each letter from alphabet is identified or in the sentence\n",
    "            return True\n",
    "        else:\n",
    "            return False\n",
    "            \n",
    "\n",
    "    \n",
    "            \n",
    "\n",
    "is_pangram('the quick brown fox jumps over the lazy dog')\n"
   ]
  },
  {
   "cell_type": "markdown",
   "metadata": {},
   "source": [
    "# question 8"
   ]
  },
  {
   "cell_type": "code",
   "execution_count": 55,
   "metadata": {
    "collapsed": false
   },
   "outputs": [
    {
     "name": "stdout",
     "output_type": "stream",
     "text": [
      "99bottles of coke on the wall99bottles of coke.\n",
      "Take one down, pass it around,98bottles of coke on the wall.\n",
      "\n",
      "98bottles of coke on the wall98bottles of coke.\n",
      "Take one down, pass it around,97bottles of coke on the wall.\n",
      "\n",
      "97bottles of coke on the wall97bottles of coke.\n",
      "Take one down, pass it around,96bottles of coke on the wall.\n",
      "\n",
      "96bottles of coke on the wall96bottles of coke.\n",
      "Take one down, pass it around,95bottles of coke on the wall.\n",
      "\n",
      "95bottles of coke on the wall95bottles of coke.\n",
      "Take one down, pass it around,94bottles of coke on the wall.\n",
      "\n",
      "94bottles of coke on the wall94bottles of coke.\n",
      "Take one down, pass it around,93bottles of coke on the wall.\n",
      "\n",
      "93bottles of coke on the wall93bottles of coke.\n",
      "Take one down, pass it around,92bottles of coke on the wall.\n",
      "\n",
      "92bottles of coke on the wall92bottles of coke.\n",
      "Take one down, pass it around,91bottles of coke on the wall.\n",
      "\n",
      "91bottles of coke on the wall91bottles of coke.\n",
      "Take one down, pass it around,90bottles of coke on the wall.\n",
      "\n",
      "90bottles of coke on the wall90bottles of coke.\n",
      "Take one down, pass it around,89bottles of coke on the wall.\n",
      "\n",
      "89bottles of coke on the wall89bottles of coke.\n",
      "Take one down, pass it around,88bottles of coke on the wall.\n",
      "\n",
      "88bottles of coke on the wall88bottles of coke.\n",
      "Take one down, pass it around,87bottles of coke on the wall.\n",
      "\n",
      "87bottles of coke on the wall87bottles of coke.\n",
      "Take one down, pass it around,86bottles of coke on the wall.\n",
      "\n",
      "86bottles of coke on the wall86bottles of coke.\n",
      "Take one down, pass it around,85bottles of coke on the wall.\n",
      "\n",
      "85bottles of coke on the wall85bottles of coke.\n",
      "Take one down, pass it around,84bottles of coke on the wall.\n",
      "\n",
      "84bottles of coke on the wall84bottles of coke.\n",
      "Take one down, pass it around,83bottles of coke on the wall.\n",
      "\n",
      "83bottles of coke on the wall83bottles of coke.\n",
      "Take one down, pass it around,82bottles of coke on the wall.\n",
      "\n",
      "82bottles of coke on the wall82bottles of coke.\n",
      "Take one down, pass it around,81bottles of coke on the wall.\n",
      "\n",
      "81bottles of coke on the wall81bottles of coke.\n",
      "Take one down, pass it around,80bottles of coke on the wall.\n",
      "\n",
      "80bottles of coke on the wall80bottles of coke.\n",
      "Take one down, pass it around,79bottles of coke on the wall.\n",
      "\n",
      "79bottles of coke on the wall79bottles of coke.\n",
      "Take one down, pass it around,78bottles of coke on the wall.\n",
      "\n",
      "78bottles of coke on the wall78bottles of coke.\n",
      "Take one down, pass it around,77bottles of coke on the wall.\n",
      "\n",
      "77bottles of coke on the wall77bottles of coke.\n",
      "Take one down, pass it around,76bottles of coke on the wall.\n",
      "\n",
      "76bottles of coke on the wall76bottles of coke.\n",
      "Take one down, pass it around,75bottles of coke on the wall.\n",
      "\n",
      "75bottles of coke on the wall75bottles of coke.\n",
      "Take one down, pass it around,74bottles of coke on the wall.\n",
      "\n",
      "74bottles of coke on the wall74bottles of coke.\n",
      "Take one down, pass it around,73bottles of coke on the wall.\n",
      "\n",
      "73bottles of coke on the wall73bottles of coke.\n",
      "Take one down, pass it around,72bottles of coke on the wall.\n",
      "\n",
      "72bottles of coke on the wall72bottles of coke.\n",
      "Take one down, pass it around,71bottles of coke on the wall.\n",
      "\n",
      "71bottles of coke on the wall71bottles of coke.\n",
      "Take one down, pass it around,70bottles of coke on the wall.\n",
      "\n",
      "70bottles of coke on the wall70bottles of coke.\n",
      "Take one down, pass it around,69bottles of coke on the wall.\n",
      "\n",
      "69bottles of coke on the wall69bottles of coke.\n",
      "Take one down, pass it around,68bottles of coke on the wall.\n",
      "\n",
      "68bottles of coke on the wall68bottles of coke.\n",
      "Take one down, pass it around,67bottles of coke on the wall.\n",
      "\n",
      "67bottles of coke on the wall67bottles of coke.\n",
      "Take one down, pass it around,66bottles of coke on the wall.\n",
      "\n",
      "66bottles of coke on the wall66bottles of coke.\n",
      "Take one down, pass it around,65bottles of coke on the wall.\n",
      "\n",
      "65bottles of coke on the wall65bottles of coke.\n",
      "Take one down, pass it around,64bottles of coke on the wall.\n",
      "\n",
      "64bottles of coke on the wall64bottles of coke.\n",
      "Take one down, pass it around,63bottles of coke on the wall.\n",
      "\n",
      "63bottles of coke on the wall63bottles of coke.\n",
      "Take one down, pass it around,62bottles of coke on the wall.\n",
      "\n",
      "62bottles of coke on the wall62bottles of coke.\n",
      "Take one down, pass it around,61bottles of coke on the wall.\n",
      "\n",
      "61bottles of coke on the wall61bottles of coke.\n",
      "Take one down, pass it around,60bottles of coke on the wall.\n",
      "\n",
      "60bottles of coke on the wall60bottles of coke.\n",
      "Take one down, pass it around,59bottles of coke on the wall.\n",
      "\n",
      "59bottles of coke on the wall59bottles of coke.\n",
      "Take one down, pass it around,58bottles of coke on the wall.\n",
      "\n",
      "58bottles of coke on the wall58bottles of coke.\n",
      "Take one down, pass it around,57bottles of coke on the wall.\n",
      "\n",
      "57bottles of coke on the wall57bottles of coke.\n",
      "Take one down, pass it around,56bottles of coke on the wall.\n",
      "\n",
      "56bottles of coke on the wall56bottles of coke.\n",
      "Take one down, pass it around,55bottles of coke on the wall.\n",
      "\n",
      "55bottles of coke on the wall55bottles of coke.\n",
      "Take one down, pass it around,54bottles of coke on the wall.\n",
      "\n",
      "54bottles of coke on the wall54bottles of coke.\n",
      "Take one down, pass it around,53bottles of coke on the wall.\n",
      "\n",
      "53bottles of coke on the wall53bottles of coke.\n",
      "Take one down, pass it around,52bottles of coke on the wall.\n",
      "\n",
      "52bottles of coke on the wall52bottles of coke.\n",
      "Take one down, pass it around,51bottles of coke on the wall.\n",
      "\n",
      "51bottles of coke on the wall51bottles of coke.\n",
      "Take one down, pass it around,50bottles of coke on the wall.\n",
      "\n",
      "50bottles of coke on the wall50bottles of coke.\n",
      "Take one down, pass it around,49bottles of coke on the wall.\n",
      "\n",
      "49bottles of coke on the wall49bottles of coke.\n",
      "Take one down, pass it around,48bottles of coke on the wall.\n",
      "\n",
      "48bottles of coke on the wall48bottles of coke.\n",
      "Take one down, pass it around,47bottles of coke on the wall.\n",
      "\n",
      "47bottles of coke on the wall47bottles of coke.\n",
      "Take one down, pass it around,46bottles of coke on the wall.\n",
      "\n",
      "46bottles of coke on the wall46bottles of coke.\n",
      "Take one down, pass it around,45bottles of coke on the wall.\n",
      "\n",
      "45bottles of coke on the wall45bottles of coke.\n",
      "Take one down, pass it around,44bottles of coke on the wall.\n",
      "\n",
      "44bottles of coke on the wall44bottles of coke.\n",
      "Take one down, pass it around,43bottles of coke on the wall.\n",
      "\n",
      "43bottles of coke on the wall43bottles of coke.\n",
      "Take one down, pass it around,42bottles of coke on the wall.\n",
      "\n",
      "42bottles of coke on the wall42bottles of coke.\n",
      "Take one down, pass it around,41bottles of coke on the wall.\n",
      "\n",
      "41bottles of coke on the wall41bottles of coke.\n",
      "Take one down, pass it around,40bottles of coke on the wall.\n",
      "\n",
      "40bottles of coke on the wall40bottles of coke.\n",
      "Take one down, pass it around,39bottles of coke on the wall.\n",
      "\n",
      "39bottles of coke on the wall39bottles of coke.\n",
      "Take one down, pass it around,38bottles of coke on the wall.\n",
      "\n",
      "38bottles of coke on the wall38bottles of coke.\n",
      "Take one down, pass it around,37bottles of coke on the wall.\n",
      "\n",
      "37bottles of coke on the wall37bottles of coke.\n",
      "Take one down, pass it around,36bottles of coke on the wall.\n",
      "\n",
      "36bottles of coke on the wall36bottles of coke.\n",
      "Take one down, pass it around,35bottles of coke on the wall.\n",
      "\n",
      "35bottles of coke on the wall35bottles of coke.\n",
      "Take one down, pass it around,34bottles of coke on the wall.\n",
      "\n",
      "34bottles of coke on the wall34bottles of coke.\n",
      "Take one down, pass it around,33bottles of coke on the wall.\n",
      "\n",
      "33bottles of coke on the wall33bottles of coke.\n",
      "Take one down, pass it around,32bottles of coke on the wall.\n",
      "\n",
      "32bottles of coke on the wall32bottles of coke.\n",
      "Take one down, pass it around,31bottles of coke on the wall.\n",
      "\n",
      "31bottles of coke on the wall31bottles of coke.\n",
      "Take one down, pass it around,30bottles of coke on the wall.\n",
      "\n",
      "30bottles of coke on the wall30bottles of coke.\n",
      "Take one down, pass it around,29bottles of coke on the wall.\n",
      "\n",
      "29bottles of coke on the wall29bottles of coke.\n",
      "Take one down, pass it around,28bottles of coke on the wall.\n",
      "\n",
      "28bottles of coke on the wall28bottles of coke.\n",
      "Take one down, pass it around,27bottles of coke on the wall.\n",
      "\n",
      "27bottles of coke on the wall27bottles of coke.\n",
      "Take one down, pass it around,26bottles of coke on the wall.\n",
      "\n",
      "26bottles of coke on the wall26bottles of coke.\n",
      "Take one down, pass it around,25bottles of coke on the wall.\n",
      "\n",
      "25bottles of coke on the wall25bottles of coke.\n",
      "Take one down, pass it around,24bottles of coke on the wall.\n",
      "\n",
      "24bottles of coke on the wall24bottles of coke.\n",
      "Take one down, pass it around,23bottles of coke on the wall.\n",
      "\n",
      "23bottles of coke on the wall23bottles of coke.\n",
      "Take one down, pass it around,22bottles of coke on the wall.\n",
      "\n",
      "22bottles of coke on the wall22bottles of coke.\n",
      "Take one down, pass it around,21bottles of coke on the wall.\n",
      "\n",
      "21bottles of coke on the wall21bottles of coke.\n",
      "Take one down, pass it around,20bottles of coke on the wall.\n",
      "\n",
      "20bottles of coke on the wall20bottles of coke.\n",
      "Take one down, pass it around,19bottles of coke on the wall.\n",
      "\n",
      "19bottles of coke on the wall19bottles of coke.\n",
      "Take one down, pass it around,18bottles of coke on the wall.\n",
      "\n",
      "18bottles of coke on the wall18bottles of coke.\n",
      "Take one down, pass it around,17bottles of coke on the wall.\n",
      "\n",
      "17bottles of coke on the wall17bottles of coke.\n",
      "Take one down, pass it around,16bottles of coke on the wall.\n",
      "\n",
      "16bottles of coke on the wall16bottles of coke.\n",
      "Take one down, pass it around,15bottles of coke on the wall.\n",
      "\n",
      "15bottles of coke on the wall15bottles of coke.\n",
      "Take one down, pass it around,14bottles of coke on the wall.\n",
      "\n",
      "14bottles of coke on the wall14bottles of coke.\n",
      "Take one down, pass it around,13bottles of coke on the wall.\n",
      "\n",
      "13bottles of coke on the wall13bottles of coke.\n",
      "Take one down, pass it around,12bottles of coke on the wall.\n",
      "\n",
      "12bottles of coke on the wall12bottles of coke.\n",
      "Take one down, pass it around,11bottles of coke on the wall.\n",
      "\n",
      "11bottles of coke on the wall11bottles of coke.\n",
      "Take one down, pass it around,10bottles of coke on the wall.\n",
      "\n",
      "10bottles of coke on the wall10bottles of coke.\n",
      "Take one down, pass it around,9bottles of coke on the wall.\n",
      "\n",
      "9bottles of coke on the wall9bottles of coke.\n",
      "Take one down, pass it around,8bottles of coke on the wall.\n",
      "\n",
      "8bottles of coke on the wall8bottles of coke.\n",
      "Take one down, pass it around,7bottles of coke on the wall.\n",
      "\n",
      "7bottles of coke on the wall7bottles of coke.\n",
      "Take one down, pass it around,6bottles of coke on the wall.\n",
      "\n",
      "6bottles of coke on the wall6bottles of coke.\n",
      "Take one down, pass it around,5bottles of coke on the wall.\n",
      "\n",
      "5bottles of coke on the wall5bottles of coke.\n",
      "Take one down, pass it around,4bottles of coke on the wall.\n",
      "\n",
      "4bottles of coke on the wall4bottles of coke.\n",
      "Take one down, pass it around,3bottles of coke on the wall.\n",
      "\n",
      "3bottles of coke on the wall3bottles of coke.\n",
      "Take one down, pass it around,2bottles of coke on the wall.\n",
      "\n",
      "2bottles of coke on the wall2bottles of coke.\n",
      "Take one down, pass it around,1bottles of coke on the wall.\n",
      "\n",
      "1bottles of coke on the wall1bottles of coke.\n",
      "Take one down, pass it around,0bottles of coke on the wall.\n",
      "\n"
     ]
    }
   ],
   "source": [
    "def bottlesofcoke():\n",
    "    \"\"\"\n",
    "    this function generates recurring verses iwth decreasing numbers of each verse\n",
    "    \"\"\"\n",
    "    for i in range(99,0,-1):#for number i from 0 to 99, staring from the left which is 99\n",
    "        \n",
    "        print (str(i) + 'bottles of coke on the wall' + str(i) + 'bottles of coke.')\n",
    "        print ('Take one down, pass it around,' + str(i-1) + 'bottles of coke on the wall.') \n",
    "        print ('')\n",
    "\n",
    "bottlesofcoke()"
   ]
  },
  {
   "cell_type": "markdown",
   "metadata": {},
   "source": [
    "# question 9"
   ]
  },
  {
   "cell_type": "code",
   "execution_count": 59,
   "metadata": {
    "collapsed": false
   },
   "outputs": [
    {
     "data": {
      "text/plain": [
       "['god', 'år']"
      ]
     },
     "execution_count": 59,
     "metadata": {},
     "output_type": "execute_result"
    }
   ],
   "source": [
    "def translate(englishwords):\n",
    "    \"\"\"\n",
    "    this function takes a list of english words and returns a list of swedish words\n",
    "    \n",
    "    parameters:\n",
    "    englishwords - input englishwords\n",
    "    \"\"\"\n",
    "    dictionary = {\"merry\":\"god\", \"christmas\":\"jul\", \"and\":\"och\", \"happy\":\"gott\",\"new\":\"nytt\",\"year\":\"år\"}  \n",
    "    #create a dictionary of english and swedish words\n",
    "    swedishwords = [] #create a veriable contaning swedish words translated from english we input\n",
    "    for i in englishwords:\n",
    "        if i in dictionary:\n",
    "            swedishwords += [dictionary[i]]  # if the we can find input englishwords in dictionary, we output the swedishwords and add them togetheinto the list\n",
    "    return swedishwords\n",
    "\n",
    "translate(['merry','year'])"
   ]
  },
  {
   "cell_type": "markdown",
   "metadata": {},
   "source": [
    "# question 10"
   ]
  },
  {
   "cell_type": "code",
   "execution_count": 61,
   "metadata": {
    "collapsed": false
   },
   "outputs": [
    {
     "data": {
      "text/plain": [
       "{'a': 7, 'b': 14, 'c': 3, 'd': 3}"
      ]
     },
     "execution_count": 61,
     "metadata": {},
     "output_type": "execute_result"
    }
   ],
   "source": [
    "def char_freq(string):\n",
    "    \"\"\"\n",
    "    this function takes a string and builds a frequency listing of the characters contained in it. \n",
    "    \n",
    "    parameters:\n",
    "    string - a list of characters\n",
    "    \"\"\"\n",
    "    dict = {} #create an empty dictionary\n",
    "    for i in string:\n",
    "        if i in dict:\n",
    "            dict[i] +=1 #add 1 to the frequency of the character if it is alreadyy in dict\n",
    "        else:\n",
    "            dict[i] = 1 # count as one if not\n",
    "    return dict\n",
    "char_freq('abbabcbdbabdbdbabababcbcbab')"
   ]
  },
  {
   "cell_type": "markdown",
   "metadata": {},
   "source": [
    "# question 11"
   ]
  },
  {
   "cell_type": "code",
   "execution_count": 63,
   "metadata": {
    "collapsed": false
   },
   "outputs": [
    {
     "data": {
      "text/plain": [
       "'Caesar cipher? I much prefer Caesar salad!'"
      ]
     },
     "execution_count": 63,
     "metadata": {},
     "output_type": "execute_result"
    }
   ],
   "source": [
    "def decode(string): \n",
    "    \"\"\"\n",
    "    this function takes a string and decodes it by ROT-13\n",
    "    \n",
    "    parameter:\n",
    "    string - a sentence to decode\n",
    "    \"\"\"\n",
    "    translation = '' #create a variable we want but it now is empty\n",
    "    key = {'a':'n', 'b':'o', 'c':'p', 'd':'q', 'e':'r', 'f':'s', 'g':'t', 'h':'u', \n",
    "           'i':'v', 'j':'w', 'k':'x', 'l':'y', 'm':'z', 'n':'a', 'o':'b', 'p':'c', \n",
    "           'q':'d', 'r':'e', 's':'f', 't':'g', 'u':'h', 'v':'i', 'w':'j', 'x':'k',\n",
    "           'y':'l', 'z':'m', 'A':'N', 'B':'O', 'C':'P', 'D':'Q', 'E':'R', 'F':'S', \n",
    "           'G':'T', 'H':'U', 'I':'V', 'J':'W', 'K':'X', 'L':'Y', 'M':'Z', 'N':'A', \n",
    "           'O':'B', 'P':'C', 'Q':'D', 'R':'E', 'S':'F', 'T':'G', 'U':'H', 'V':'I', \n",
    "           'W':'J', 'X':'K', 'Y':'L', 'Z':'M'}  # create a key by which we will ues to decode\n",
    "    for i in string:\n",
    "        if i in key:\n",
    "            translation += key[i] # if the character in string can be found in key, we add it to our translation and so on\n",
    "        else:\n",
    "            translation += i # if the character in string can't be found in key, we keep it in our trasnlation\n",
    "    return translation\n",
    "\n",
    "decode(\"Pnrfne pvcure? V zhpu cersre Pnrfne fnynq!\")"
   ]
  },
  {
   "cell_type": "markdown",
   "metadata": {},
   "source": [
    "# question 12"
   ]
  },
  {
   "cell_type": "code",
   "execution_count": 65,
   "metadata": {
    "collapsed": false
   },
   "outputs": [
    {
     "data": {
      "text/plain": [
       "'This is very funny and cool. Indeed!'"
      ]
     },
     "execution_count": 65,
     "metadata": {},
     "output_type": "execute_result"
    }
   ],
   "source": [
    "def correct(string):\n",
    "    \"\"\"\n",
    "    this function takes a string and corrects it so that 2 or more occurrences of spaces are compressed into one \n",
    "    and insert extra space after a period\n",
    "    \n",
    "    parameter:\n",
    "    a string of sentence to be corrected\n",
    "    \"\"\"\n",
    "    import re #import regular expression module\n",
    "    \n",
    "    correctedstring = re.sub('\\ +',' ',string) #removes the extra spaces and replace with the string we input\n",
    "    correctedstring = re.sub('\\.', '. ',correctedstring) #puts an extra space after the period\n",
    "    return correctedstring\n",
    "\n",
    "correct(\"This        is   very  funny  and  cool.Indeed!\")"
   ]
  },
  {
   "cell_type": "markdown",
   "metadata": {},
   "source": [
    "# question 13"
   ]
  },
  {
   "cell_type": "code",
   "execution_count": 74,
   "metadata": {
    "collapsed": false
   },
   "outputs": [
    {
     "name": "stdout",
     "output_type": "stream",
     "text": [
      "tries\n",
      "brushes\n",
      "runs\n",
      "fixes\n"
     ]
    }
   ],
   "source": [
    "def make_3sg_form(verb):\n",
    "    \"\"\"\n",
    "    this function takes a verb in infinitive form and returns its third person sigular form by a simple set of rules as follows:\n",
    "    if verb ends in y, remove it and add ies\n",
    "    if verb ends in o, ch, s, sh, x or z, add es\n",
    "    by default just adds s\n",
    "    \n",
    "    parameter:\n",
    "    verb - in its infinitive form to be transformed into its third person sigular form\n",
    "    \"\"\"\n",
    "    if verb.endswith('y'):\n",
    "        return verb[:-1]+ 'ies' #if verb ends in y, remove it and add ies\n",
    "    elif verb.endswith('o') or verb.endswith('ch') or verb.endswith('s') or verb.endswith('sh') or verb.endswith('x') or verb.endswith('z'):\n",
    "        return verb +'es' #if verb ends in o, ch, s, sh, x or z, add es\n",
    "    else:\n",
    "        return verb + 's'  #by default just adds s\n",
    "    \n",
    "print(make_3sg_form('try'))\n",
    "print(make_3sg_form('brush'))\n",
    "print(make_3sg_form('run'))\n",
    "print(make_3sg_form('fix'))"
   ]
  },
  {
   "cell_type": "markdown",
   "metadata": {},
   "source": [
    "# question 14"
   ]
  },
  {
   "cell_type": "code",
   "execution_count": 86,
   "metadata": {
    "collapsed": false
   },
   "outputs": [
    {
     "name": "stdout",
     "output_type": "stream",
     "text": [
      "lying\n",
      "seeing\n",
      "moving\n",
      "hugging\n",
      "walking\n"
     ]
    }
   ],
   "source": [
    "def make_ing_form(verb):\n",
    "    \"\"\"\n",
    "    this function takes a verb in infinitive form and returns its present participle form by a simple set of heuristic rules\n",
    "    as follows:\n",
    "    if verbe ends in e, drop e and add ing\n",
    "    if verb ends in ie, change ie to y and add ing\n",
    "    for words consisting of consonant-vowel-consonatn, double the final letter before adding ing\n",
    "    by default just add ing\n",
    "    \n",
    "    parameter:\n",
    "    verb - in its infinitivie form to be transformed into its present participle from\n",
    "    \"\"\"\n",
    "    if verb.endswith('ie'):\n",
    "        return verb[:-2] +'ying' # if verb ends in ie, change ie to y and add ing\n",
    "    if verb.endswith('ee'):\n",
    "        return verb +'ing' # preven the case that verb ends with ee goint through next step\n",
    "    elif verb.endswith('e'):\n",
    "        return verb[:-1] +'ing' #if verbe does not ends in ie but ends in e, drop e and add ing\n",
    "    elif verb[-2] in 'aeiou':\n",
    "        return verb + verb[-1] + 'ing' # if the input deose not meet the previous two requirements and the second letter from right is consonant, double the final letter before adding ing\n",
    "    else: \n",
    "        return verb+ 'ing' #if not in all the cases above, by default just add ing\n",
    "    \n",
    "print(make_ing_form('lie'))\n",
    "print(make_ing_form('see'))\n",
    "print(make_ing_form('move'))\n",
    "print(make_ing_form('hug'))\n",
    "print(make_ing_form('walk'))"
   ]
  },
  {
   "cell_type": "code",
   "execution_count": null,
   "metadata": {
    "collapsed": true
   },
   "outputs": [],
   "source": []
  }
 ],
 "metadata": {
  "kernelspec": {
   "display_name": "Python 3",
   "language": "python",
   "name": "python3"
  },
  "language_info": {
   "codemirror_mode": {
    "name": "ipython",
    "version": 3
   },
   "file_extension": ".py",
   "mimetype": "text/x-python",
   "name": "python",
   "nbconvert_exporter": "python",
   "pygments_lexer": "ipython3",
   "version": "3.4.3"
  }
 },
 "nbformat": 4,
 "nbformat_minor": 0
}
